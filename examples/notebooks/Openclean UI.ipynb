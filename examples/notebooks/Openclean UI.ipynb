{
 "cells": [
  {
   "cell_type": "code",
   "execution_count": null,
   "metadata": {},
   "outputs": [],
   "source": [
    "from openclean_jupyter import DB\n",
    "\n",
    "# Create new database in folder that is specified in the\n",
    "# environment variable OPENCLEAN_DBHOME\n",
    "db = DB(name='mydb').create_db()  # DB('mydb', create=True)  or DB(name='mydb').init()"
   ]
  },
  {
   "cell_type": "code",
   "execution_count": null,
   "metadata": {},
   "outputs": [],
   "source": [
    "import pandas as pd\n",
    "\n",
    "df = db.load_dataset(df=pd.read_csv('somefile.csv'), name='my_dataset', profiler='datamart')"
   ]
  },
  {
   "cell_type": "code",
   "execution_count": null,
   "metadata": {},
   "outputs": [],
   "source": [
    "from openclean import update\n",
    "\n",
    "df = update(df, 'boro', str.upper)\n",
    "db.commit(df=df, dataset='my_dataset')\n",
    "\n",
    "# Alternative\n",
    "\n",
    "df = db.update(name='my_dataset', columns='boro', func=str.upper)"
   ]
  },
  {
   "cell_type": "code",
   "execution_count": null,
   "metadata": {},
   "outputs": [],
   "source": [
    "for ds in db.history(dataset='my_dataset'):\n",
    "    print('{}\\t{}'.format(ds.version(), ds.created_at()))\n",
    "    \n",
    "df = db.checkout(dataset='my_dataset', version=1)"
   ]
  },
  {
   "cell_type": "code",
   "execution_count": null,
   "metadata": {},
   "outputs": [],
   "source": [
    "# Show spreadsheet view\n",
    "db.edit('my_dataset')  # db.show('my_dataset')"
   ]
  },
  {
   "cell_type": "code",
   "execution_count": null,
   "metadata": {},
   "outputs": [],
   "source": [
    "df = db.checkout('my_dataset')\n",
    "\n",
    "df = db.rollback('my_dataset', version=4)"
   ]
  },
  {
   "cell_type": "code",
   "execution_count": null,
   "metadata": {},
   "outputs": [],
   "source": [
    "db.edit('my_dataset') "
   ]
  },
  {
   "cell_type": "code",
   "execution_count": null,
   "metadata": {},
   "outputs": [],
   "source": [
    "@db.register('shuffle')\n",
    "def my_shuffle(value, delim='|'):\n",
    "    t1, t2 = value.split(delim)\n",
    "    return '{}/{}/{}'.format(t2, t1, t2)\n",
    "\n",
    "db.register_column_function(func=my_shuffle, as='myshuffle', arg_count=2)\n",
    "\n",
    "db.myshuffle(dataset='my_dataset', column='boro')\n",
    "\n",
    "db.apply('my_dataset').myshuffle('boro')"
   ]
  },
  {
   "cell_type": "code",
   "execution_count": null,
   "metadata": {},
   "outputs": [],
   "source": [
    "@db.register()\n",
    "class MyFunc(NotebookCell):\n",
    "    def exec(self, context):\n",
    "        pass\n",
    "    \n",
    "    def para(self):\n",
    "        # Return parameter definition\n",
    "        pass\n",
    "    \n",
    "    def to_command_string(self, args)\n",
    "        pass\n",
    "    \n",
    "db.register(MyFunc)"
   ]
  }
 ],
 "metadata": {
  "kernelspec": {
   "display_name": "Python 3",
   "language": "python",
   "name": "python3"
  },
  "language_info": {
   "codemirror_mode": {
    "name": "ipython",
    "version": 3
   },
   "file_extension": ".py",
   "mimetype": "text/x-python",
   "name": "python",
   "nbconvert_exporter": "python",
   "pygments_lexer": "ipython3",
   "version": "3.8.5"
  }
 },
 "nbformat": 4,
 "nbformat_minor": 4
}
