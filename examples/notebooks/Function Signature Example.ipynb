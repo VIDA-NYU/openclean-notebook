{
 "cells": [
  {
   "cell_type": "code",
   "execution_count": 1,
   "metadata": {},
   "outputs": [],
   "source": [
    "# The database object is responsible for maintaining the\n",
    "# snapshots (versions) of datasets that are manipulated using\n",
    "# openclean operators in this notebook.\n",
    "\n",
    "from openclean_notebook import DB\n",
    "\n",
    "# Define a base directory on the local file system where all\n",
    "# data is stored. The create=True flag will erase any data\n",
    "# that previously exists in the base directory.\n",
    "db = DB(basedir='.openclean', create=True)"
   ]
  },
  {
   "cell_type": "code",
   "execution_count": 2,
   "metadata": {},
   "outputs": [],
   "source": [
    "from openclean.data.load import dataset\n",
    "\n",
    "#\n",
    "# Load full dataset 'VDH-COVID-19-PublicUseDataset-Cases' from the data.virginia.gov portal.\n",
    "\n",
    "df = db.load_dataset(source='./data/bre9-aqqr.tsv.gz', name='covid-cases')"
   ]
  },
  {
   "cell_type": "code",
   "execution_count": 3,
   "metadata": {},
   "outputs": [],
   "source": [
    "# Add a user-defined function that operates on two columns and\n",
    "# that takes an additional parameter as input.\n",
    "#\n",
    "# When registering the function we can specify the number of\n",
    "# input columns the function operates on. The convention is that\n",
    "# the first n arguments of the registered function will receive\n",
    "# their values from the n input columns that the user selects.\n",
    "# Additional parameters will be called as keyword arguments.\n",
    "#\n",
    "# If the collables argument is not given when the function is\n",
    "# registered the names of the first n function arguments are\n",
    "# used as the defaults.\n",
    "\n",
    "from openclean.engine.object.function import String\n",
    "\n",
    "@db.register.eval(\n",
    "    name='concat',\n",
    "    label='Concat Columns',\n",
    "    description='Concatenate values from two columns',\n",
    "    columns=2,\n",
    "    collabels=['Left Column', 'Right Column'],\n",
    "    parameters=[String(name='delim', label='Delimiter', default=':')]\n",
    ")\n",
    "def concat_columns(value1, value2, delim):\n",
    "    \"\"\"Concatenate two values with the given delimiter.\"\"\"\n",
    "    return '{}{}{}'.format(value1, delim, value2)"
   ]
  },
  {
   "cell_type": "code",
   "execution_count": 4,
   "metadata": {},
   "outputs": [
    {
     "name": "stdout",
     "output_type": "stream",
     "text": [
      "{\n",
      "    \"functions\": [\n",
      "        {\n",
      "            \"name\": \"lower\",\n",
      "            \"namespace\": \"string\",\n",
      "            \"columns\": 1,\n",
      "            \"columnLabels\": null,\n",
      "            \"outputs\": 1,\n",
      "            \"parameters\": []\n",
      "        },\n",
      "        {\n",
      "            \"name\": \"upper\",\n",
      "            \"namespace\": \"string\",\n",
      "            \"columns\": 1,\n",
      "            \"columnLabels\": null,\n",
      "            \"outputs\": 1,\n",
      "            \"parameters\": []\n",
      "        },\n",
      "        {\n",
      "            \"name\": \"capitalize\",\n",
      "            \"namespace\": \"string\",\n",
      "            \"columns\": 1,\n",
      "            \"columnLabels\": null,\n",
      "            \"outputs\": 1,\n",
      "            \"parameters\": []\n",
      "        },\n",
      "        {\n",
      "            \"name\": \"concat\",\n",
      "            \"namespace\": null,\n",
      "            \"label\": \"Concat Columns\",\n",
      "            \"description\": \"Concatenate values from two columns\",\n",
      "            \"columns\": 2,\n",
      "            \"columnLabels\": [\n",
      "                \"Left Column\",\n",
      "                \"Right Column\"\n",
      "            ],\n",
      "            \"outputs\": 1,\n",
      "            \"parameters\": [\n",
      "                {\n",
      "                    \"dtype\": \"string\",\n",
      "                    \"name\": \"delim\",\n",
      "                    \"index\": 0,\n",
      "                    \"isRequired\": false,\n",
      "                    \"label\": \"Delimiter\",\n",
      "                    \"defaultValue\": \":\"\n",
      "                }\n",
      "            ]\n",
      "        }\n",
      "    ]\n",
      "}\n"
     ]
    }
   ],
   "source": [
    "# Print serialization of function library that will be available to the Spreadsheet view.\n",
    "\n",
    "import json\n",
    "\n",
    "print(json.dumps(db.library_dict(), indent=4))"
   ]
  }
 ],
 "metadata": {
  "kernelspec": {
   "display_name": "Python 3",
   "language": "python",
   "name": "python3"
  },
  "language_info": {
   "codemirror_mode": {
    "name": "ipython",
    "version": 3
   },
   "file_extension": ".py",
   "mimetype": "text/x-python",
   "name": "python",
   "nbconvert_exporter": "python",
   "pygments_lexer": "ipython3",
   "version": "3.9.1"
  }
 },
 "nbformat": 4,
 "nbformat_minor": 4
}
